{
 "cells": [
  {
   "cell_type": "code",
   "execution_count": 1,
   "id": "97520e3b",
   "metadata": {},
   "outputs": [],
   "source": [
    "import cv2\n",
    "import winsound\n",
    "\n",
    "cam = cv2.VideoCapture(0)\n",
    "\n",
    "while cam.isOpened():\n",
    "    \n",
    "    ret, frame1 =cam.read()\n",
    "    \n",
    "    ret, frame2 =cam.read()\n",
    "    \n",
    "    diff=cv2.absdiff(frame1, frame2)\n",
    "    \n",
    "    gray=cv2.cvtColor(diff, cv2.COLOR_RGB2GRAY)\n",
    "    \n",
    "    blur=cv2.GaussianBlur(gray,(5,5),0)\n",
    "    \n",
    "    _,thresh=cv2.threshold(blur,20,255,cv2.THRESH_BINARY)\n",
    "    \n",
    "    dilated=cv2.dilate(thresh,None,iterations=3)\n",
    "    \n",
    "    contours, _=cv2.findContours(dilated, cv2.RETR_TREE, cv2.CHAIN_APPROX_SIMPLE)\n",
    "    #cv2.drawContours(frame1, contours, -1,(0, 255, 0),2)\n",
    "    \n",
    "    for c in contours:\n",
    "        \n",
    "        if cv2.contourArea(c)<5000:\n",
    "            continue\n",
    "        x,y,w,h=cv2.boundingRect(c)\n",
    "        \n",
    "        cv2.rectangle(frame1,(x,y),(x+w,y+h),(0,255,0),2)\n",
    "        \n",
    "        winsound.PlaySound('alert.wav',winsound.SND_ASYNC)\n",
    "        \n",
    "    if cv2.waitKey(10) == ord('q'):\n",
    "        break\n",
    "    cv2.imshow('Granny cam', frame1)"
   ]
  },
  {
   "cell_type": "code",
   "execution_count": null,
   "id": "40d33e2a",
   "metadata": {},
   "outputs": [],
   "source": []
  },
  {
   "cell_type": "code",
   "execution_count": null,
   "id": "6fa17fc7",
   "metadata": {},
   "outputs": [],
   "source": []
  }
 ],
 "metadata": {
  "kernelspec": {
   "display_name": "Python 3 (ipykernel)",
   "language": "python",
   "name": "python3"
  },
  "language_info": {
   "codemirror_mode": {
    "name": "ipython",
    "version": 3
   },
   "file_extension": ".py",
   "mimetype": "text/x-python",
   "name": "python",
   "nbconvert_exporter": "python",
   "pygments_lexer": "ipython3",
   "version": "3.9.7"
  }
 },
 "nbformat": 4,
 "nbformat_minor": 5
}
